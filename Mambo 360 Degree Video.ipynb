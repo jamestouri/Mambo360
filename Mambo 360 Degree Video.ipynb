{
 "cells": [
  {
   "cell_type": "code",
   "execution_count": 4,
   "metadata": {
    "collapsed": false
   },
   "outputs": [
    {
     "ename": "ImportError",
     "evalue": "No module named 'Mambo'",
     "output_type": "error",
     "traceback": [
      "\u001b[0;31m---------------------------------------------------------------------------\u001b[0m",
      "\u001b[0;31mImportError\u001b[0m                               Traceback (most recent call last)",
      "\u001b[0;32m<ipython-input-4-b3651d303101>\u001b[0m in \u001b[0;36m<module>\u001b[0;34m()\u001b[0m\n\u001b[1;32m      1\u001b[0m \u001b[0;31m# Mambo Drone Flying up, doing a full 360 spin while recording\u001b[0m\u001b[0;34m\u001b[0m\u001b[0;34m\u001b[0m\u001b[0m\n\u001b[0;32m----> 2\u001b[0;31m \u001b[0;32mfrom\u001b[0m \u001b[0mMambo\u001b[0m \u001b[0;32mimport\u001b[0m \u001b[0mMambo\u001b[0m\u001b[0;34m\u001b[0m\u001b[0m\n\u001b[0m\u001b[1;32m      3\u001b[0m \u001b[0;32mimport\u001b[0m \u001b[0mcv2\u001b[0m\u001b[0;34m\u001b[0m\u001b[0m\n\u001b[1;32m      4\u001b[0m \u001b[0;32mfrom\u001b[0m \u001b[0mMamboVision\u001b[0m \u001b[0;32mimport\u001b[0m \u001b[0mMamboVision\u001b[0m\u001b[0;34m\u001b[0m\u001b[0m\n\u001b[1;32m      5\u001b[0m \u001b[0;32mimport\u001b[0m \u001b[0mthreading\u001b[0m\u001b[0;34m\u001b[0m\u001b[0m\n",
      "\u001b[0;31mImportError\u001b[0m: No module named 'Mambo'"
     ]
    }
   ],
   "source": [
    "# Mambo Drone Flying up, doing a full 360 spin while recording\n",
    "from Mambo import Mambo\n",
    "import cv2\n",
    "from MamboVision import MamboVision\n",
    "import threading\n",
    "import time\n"
   ]
  },
  {
   "cell_type": "code",
   "execution_count": 2,
   "metadata": {
    "collapsed": true
   },
   "outputs": [],
   "source": [
    "# you will need to change this to the address of YOUR mambo\n",
    "mamboAddr = \"e0:14:d0:63:3d:d0\""
   ]
  },
  {
   "cell_type": "code",
   "execution_count": 10,
   "metadata": {
    "collapsed": false
   },
   "outputs": [
    {
     "ename": "NameError",
     "evalue": "name 'Mambo' is not defined",
     "output_type": "error",
     "traceback": [
      "\u001b[0;31m---------------------------------------------------------------------------\u001b[0m",
      "\u001b[0;31mNameError\u001b[0m                                 Traceback (most recent call last)",
      "\u001b[0;32m<ipython-input-10-036b1a351527>\u001b[0m in \u001b[0;36m<module>\u001b[0;34m()\u001b[0m\n\u001b[1;32m      1\u001b[0m \u001b[0;31m# make my mambo object\u001b[0m\u001b[0;34m\u001b[0m\u001b[0;34m\u001b[0m\u001b[0m\n\u001b[0;32m----> 2\u001b[0;31m \u001b[0mmambo\u001b[0m \u001b[0;34m=\u001b[0m \u001b[0mMambo\u001b[0m\u001b[0;34m(\u001b[0m\u001b[0mmamboAddr\u001b[0m\u001b[0;34m,\u001b[0m \u001b[0muse_wifi\u001b[0m\u001b[0;34m=\u001b[0m\u001b[0;32mTrue\u001b[0m\u001b[0;34m)\u001b[0m\u001b[0;34m\u001b[0m\u001b[0m\n\u001b[0m\u001b[1;32m      3\u001b[0m \u001b[0;34m\u001b[0m\u001b[0m\n\u001b[1;32m      4\u001b[0m \u001b[0mprint\u001b[0m\u001b[0;34m(\u001b[0m\u001b[0;34m\"trying to connect\"\u001b[0m\u001b[0;34m)\u001b[0m\u001b[0;34m\u001b[0m\u001b[0m\n\u001b[1;32m      5\u001b[0m \u001b[0msuccess\u001b[0m \u001b[0;34m=\u001b[0m \u001b[0mmambo\u001b[0m\u001b[0;34m.\u001b[0m\u001b[0mconnect\u001b[0m\u001b[0;34m(\u001b[0m\u001b[0mnum_retries\u001b[0m\u001b[0;34m=\u001b[0m\u001b[0;36m3\u001b[0m\u001b[0;34m)\u001b[0m\u001b[0;34m\u001b[0m\u001b[0m\n",
      "\u001b[0;31mNameError\u001b[0m: name 'Mambo' is not defined"
     ]
    }
   ],
   "source": [
    "# make my mambo object\n",
    "mambo = Mambo(mamboAddr, use_wifi=True)\n",
    "\n",
    "print(\"trying to connect\")\n",
    "success = mambo.connect(num_retries=3)\n",
    "print(\"connected: %s\" % success)"
   ]
  },
  {
   "cell_type": "code",
   "execution_count": 11,
   "metadata": {
    "collapsed": false
   },
   "outputs": [
    {
     "ename": "NameError",
     "evalue": "name 'success' is not defined",
     "output_type": "error",
     "traceback": [
      "\u001b[0;31m---------------------------------------------------------------------------\u001b[0m",
      "\u001b[0;31mNameError\u001b[0m                                 Traceback (most recent call last)",
      "\u001b[0;32m<ipython-input-11-f120fa59aad4>\u001b[0m in \u001b[0;36m<module>\u001b[0;34m()\u001b[0m\n\u001b[0;32m----> 1\u001b[0;31m \u001b[0;32mif\u001b[0m \u001b[0msuccess\u001b[0m\u001b[0;34m:\u001b[0m\u001b[0;34m\u001b[0m\u001b[0m\n\u001b[0m\u001b[1;32m      2\u001b[0m     \u001b[0mprint\u001b[0m\u001b[0;34m(\u001b[0m\u001b[0;34m\"sleeping\"\u001b[0m\u001b[0;34m)\u001b[0m\u001b[0;34m\u001b[0m\u001b[0m\n\u001b[1;32m      3\u001b[0m     \u001b[0mmambo\u001b[0m\u001b[0;34m.\u001b[0m\u001b[0msmart_sleep\u001b[0m\u001b[0;34m(\u001b[0m\u001b[0;36m2\u001b[0m\u001b[0;34m)\u001b[0m\u001b[0;34m\u001b[0m\u001b[0m\n\u001b[1;32m      4\u001b[0m     \u001b[0mmambo\u001b[0m\u001b[0;34m.\u001b[0m\u001b[0mask_for_state_update\u001b[0m\u001b[0;34m\u001b[0m\u001b[0m\n\u001b[1;32m      5\u001b[0m     \u001b[0mmambo\u001b[0m\u001b[0;34m.\u001b[0m\u001b[0msmart_sleep\u001b[0m\u001b[0;34m(\u001b[0m\u001b[0;36m2\u001b[0m\u001b[0;34m)\u001b[0m\u001b[0;34m\u001b[0m\u001b[0m\n",
      "\u001b[0;31mNameError\u001b[0m: name 'success' is not defined"
     ]
    }
   ],
   "source": [
    "if success:\n",
    "    print(\"sleeping\")\n",
    "    mambo.smart_sleep(2)\n",
    "    mambo.ask_for_state_update\n",
    "    mambo.smart_sleep(2)\n",
    "    \n",
    "    mambo.safe_takeoff(5)\n",
    "    print(\"Houston we have Liftoff\")\n",
    "    \n",
    "    #Number of frames to Buffer in Memory.  Def. was 10 but I put it to 100 for a panoramic view\n",
    "    mambo_vision = MamboVision(buffer_size = 100)\n",
    "    userVision = UserVision(mambo_vision)\n",
    "    mambo_vision.set_user_callback_function(userVision.save_pictures, user_callback_args=None)\n",
    "    success = mambo_vision.open_video(max_retries=15)\n",
    "\n",
    "    if(success) and (mambo.sensors.flying_state != \"emergency\"):\n",
    "        print(\"Preparing to record\")\n",
    "        \n",
    "        mambo_vision.start_video_buffering()\n",
    "        #Turn degrees had range of (-180, 180)\n",
    "        mambo.turn_degrees(180)\n",
    "        mambo.turn_degrees(180)\n",
    "        \n",
    "        #Stop the Video\n",
    "        mambo_vision.stop_video_buffering()\n",
    "        \n",
    "    mambo.safe_land(5)\n",
    "    isAlive = False \n",
    "    \n",
    "    mambo.smart_sleep(5)\n",
    "    mambo.disconnect()\n",
    "    print(\"Program finish\")\n",
    "        \n",
    "        \n",
    "        \n",
    "        \n",
    "    "
   ]
  },
  {
   "cell_type": "code",
   "execution_count": null,
   "metadata": {
    "collapsed": true
   },
   "outputs": [],
   "source": []
  }
 ],
 "metadata": {
  "anaconda-cloud": {},
  "kernelspec": {
   "display_name": "Python [conda root]",
   "language": "python",
   "name": "conda-root-py"
  },
  "language_info": {
   "codemirror_mode": {
    "name": "ipython",
    "version": 3
   },
   "file_extension": ".py",
   "mimetype": "text/x-python",
   "name": "python",
   "nbconvert_exporter": "python",
   "pygments_lexer": "ipython3",
   "version": "3.5.2"
  }
 },
 "nbformat": 4,
 "nbformat_minor": 1
}
